{
 "cells": [
  {
   "cell_type": "code",
   "execution_count": 2,
   "metadata": {},
   "outputs": [],
   "source": [
    "#Importing Necessary Libraries\n",
    "\n",
    "#Data Manipulation/Calculation Libraries\n",
    "import pandas as pd\n",
    "import numpy as np\n",
    "import math\n",
    "\n",
    "#Visualisation\n",
    "import matplotlib.pyplot as plt\n",
    "import seaborn as sns\n",
    "\n",
    "#NLP \n",
    "import nltk\n",
    "import string\n",
    "from nltk.tokenize import word_tokenize\n",
    "from nltk.corpus import stopwords\n",
    "from nltk.stem.porter import PorterStemmer\n",
    "from nltk.stem.wordnet import WordNetLemmatizer\n",
    "from fuzzywuzzy import fuzz\n",
    "from nltk import word_tokenize\n",
    "from scipy.stats import skew, kurtosis\n",
    "from scipy.spatial.distance import cosine, cityblock, jaccard, canberra, euclidean, minkowski, braycurtis\n",
    "from tqdm import tqdm_notebook\n",
    "\n",
    "#ML Models\n",
    "from sklearn.model_selection import train_test_split\n",
    "from sklearn.linear_model import LogisticRegression\n",
    "from sklearn.ensemble import RandomForestClassifier\n",
    "from sklearn.preprocessing import Imputer\n",
    "from sklearn.metrics import classification_report\n",
    "from sklearn.metrics import confusion_matrix  \n",
    "from sklearn.metrics import accuracy_score"
   ]
  },
  {
   "cell_type": "code",
   "execution_count": 5,
   "metadata": {},
   "outputs": [
    {
     "data": {
      "text/html": [
       "<div>\n",
       "<style scoped>\n",
       "    .dataframe tbody tr th:only-of-type {\n",
       "        vertical-align: middle;\n",
       "    }\n",
       "\n",
       "    .dataframe tbody tr th {\n",
       "        vertical-align: top;\n",
       "    }\n",
       "\n",
       "    .dataframe thead th {\n",
       "        text-align: right;\n",
       "    }\n",
       "</style>\n",
       "<table border=\"1\" class=\"dataframe\">\n",
       "  <thead>\n",
       "    <tr style=\"text-align: right;\">\n",
       "      <th></th>\n",
       "      <th>album_title</th>\n",
       "      <th>artist</th>\n",
       "      <th>track_title</th>\n",
       "      <th>lyrics</th>\n",
       "    </tr>\n",
       "  </thead>\n",
       "  <tbody>\n",
       "    <tr>\n",
       "      <td>0</td>\n",
       "      <td>Girl Code</td>\n",
       "      <td>City Girls</td>\n",
       "      <td>What We Doin'</td>\n",
       "      <td>(The 90's), Yup, haha, House super clean (Clea...</td>\n",
       "    </tr>\n",
       "    <tr>\n",
       "      <td>1</td>\n",
       "      <td>Girl Code</td>\n",
       "      <td>City Girls</td>\n",
       "      <td>Season (Ft. Lil Baby)</td>\n",
       "      <td>It's that season (Y'all know what time it is),...</td>\n",
       "    </tr>\n",
       "    <tr>\n",
       "      <td>2</td>\n",
       "      <td>Girl Code</td>\n",
       "      <td>City Girls</td>\n",
       "      <td>Broke Boy</td>\n",
       "      <td>If you a broke boy, stay the fuck out my way, ...</td>\n",
       "    </tr>\n",
       "    <tr>\n",
       "      <td>3</td>\n",
       "      <td>Girl Code</td>\n",
       "      <td>City Girls</td>\n",
       "      <td>Clout Chasin'</td>\n",
       "      <td>Yung Miami, ho, JT on the track, Told that lil...</td>\n",
       "    </tr>\n",
       "    <tr>\n",
       "      <td>4</td>\n",
       "      <td>Girl Code</td>\n",
       "      <td>City Girls</td>\n",
       "      <td>Intro (#FREEJT)</td>\n",
       "      <td>You have pre-paid call, You will not be charge...</td>\n",
       "    </tr>\n",
       "  </tbody>\n",
       "</table>\n",
       "</div>"
      ],
      "text/plain": [
       "  album_title      artist            track_title  \\\n",
       "0   Girl Code  City Girls          What We Doin'   \n",
       "1   Girl Code  City Girls  Season (Ft. Lil Baby)   \n",
       "2   Girl Code  City Girls              Broke Boy   \n",
       "3   Girl Code  City Girls          Clout Chasin'   \n",
       "4   Girl Code  City Girls        Intro (#FREEJT)   \n",
       "\n",
       "                                              lyrics  \n",
       "0  (The 90's), Yup, haha, House super clean (Clea...  \n",
       "1  It's that season (Y'all know what time it is),...  \n",
       "2  If you a broke boy, stay the fuck out my way, ...  \n",
       "3  Yung Miami, ho, JT on the track, Told that lil...  \n",
       "4  You have pre-paid call, You will not be charge...  "
      ]
     },
     "execution_count": 5,
     "metadata": {},
     "output_type": "execute_result"
    }
   ],
   "source": [
    "data = pd.read_csv(\"FINAL_v1.csv\")\n",
    "del data['Unnamed: 0']\n",
    "data.head()"
   ]
  },
  {
   "cell_type": "code",
   "execution_count": 6,
   "metadata": {},
   "outputs": [],
   "source": [
    "data.lyrics = data.lyrics.astype(str)"
   ]
  },
  {
   "cell_type": "code",
   "execution_count": null,
   "metadata": {},
   "outputs": [],
   "source": []
  }
 ],
 "metadata": {
  "kernelspec": {
   "display_name": "Python 3",
   "language": "python",
   "name": "python3"
  },
  "language_info": {
   "codemirror_mode": {
    "name": "ipython",
    "version": 3
   },
   "file_extension": ".py",
   "mimetype": "text/x-python",
   "name": "python",
   "nbconvert_exporter": "python",
   "pygments_lexer": "ipython3",
   "version": "3.7.4"
  }
 },
 "nbformat": 4,
 "nbformat_minor": 2
}

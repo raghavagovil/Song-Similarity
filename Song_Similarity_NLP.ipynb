{
 "cells": [
  {
   "cell_type": "code",
   "execution_count": 1,
   "metadata": {},
   "outputs": [
    {
     "name": "stderr",
     "output_type": "stream",
     "text": [
      "/opt/anaconda3/lib/python3.7/site-packages/fuzzywuzzy/fuzz.py:11: UserWarning: Using slow pure-python SequenceMatcher. Install python-Levenshtein to remove this warning\n",
      "  warnings.warn('Using slow pure-python SequenceMatcher. Install python-Levenshtein to remove this warning')\n"
     ]
    }
   ],
   "source": [
    "#Importing Necessary Libraries\n",
    "\n",
    "#Data Manipulation/Calculation Libraries\n",
    "import pandas as pd\n",
    "import numpy as np\n",
    "import math\n",
    "\n",
    "#Visualisation\n",
    "import matplotlib.pyplot as plt\n",
    "import seaborn as sns\n",
    "\n",
    "#NLP \n",
    "import nltk\n",
    "import string\n",
    "from nltk.tokenize import word_tokenize\n",
    "from nltk.corpus import stopwords\n",
    "from nltk.stem.porter import PorterStemmer\n",
    "from nltk.stem.wordnet import WordNetLemmatizer\n",
    "from fuzzywuzzy import fuzz\n",
    "from nltk import word_tokenize\n",
    "from scipy.stats import skew, kurtosis\n",
    "from scipy.spatial.distance import cosine, cityblock, jaccard, canberra, euclidean, minkowski, braycurtis\n",
    "from tqdm import tqdm_notebook\n",
    "\n",
    "#ML Models\n",
    "from sklearn.model_selection import train_test_split\n",
    "from sklearn.linear_model import LogisticRegression\n",
    "from sklearn.ensemble import RandomForestClassifier\n",
    "from sklearn.preprocessing import Imputer\n",
    "from sklearn.metrics import classification_report\n",
    "from sklearn.metrics import confusion_matrix  \n",
    "from sklearn.metrics import accuracy_score"
   ]
  },
  {
   "cell_type": "code",
   "execution_count": 2,
   "metadata": {},
   "outputs": [
    {
     "data": {
      "text/html": [
       "<div>\n",
       "<style scoped>\n",
       "    .dataframe tbody tr th:only-of-type {\n",
       "        vertical-align: middle;\n",
       "    }\n",
       "\n",
       "    .dataframe tbody tr th {\n",
       "        vertical-align: top;\n",
       "    }\n",
       "\n",
       "    .dataframe thead th {\n",
       "        text-align: right;\n",
       "    }\n",
       "</style>\n",
       "<table border=\"1\" class=\"dataframe\">\n",
       "  <thead>\n",
       "    <tr style=\"text-align: right;\">\n",
       "      <th></th>\n",
       "      <th>album_title</th>\n",
       "      <th>artist</th>\n",
       "      <th>track_title</th>\n",
       "      <th>lyrics</th>\n",
       "    </tr>\n",
       "  </thead>\n",
       "  <tbody>\n",
       "    <tr>\n",
       "      <td>0</td>\n",
       "      <td>Girl Code</td>\n",
       "      <td>City Girls</td>\n",
       "      <td>What We Doin'</td>\n",
       "      <td>(The 90's), Yup, haha, House super clean (Clea...</td>\n",
       "    </tr>\n",
       "    <tr>\n",
       "      <td>1</td>\n",
       "      <td>Girl Code</td>\n",
       "      <td>City Girls</td>\n",
       "      <td>Season (Ft. Lil Baby)</td>\n",
       "      <td>It's that season (Y'all know what time it is),...</td>\n",
       "    </tr>\n",
       "    <tr>\n",
       "      <td>2</td>\n",
       "      <td>Girl Code</td>\n",
       "      <td>City Girls</td>\n",
       "      <td>Broke Boy</td>\n",
       "      <td>If you a broke boy, stay the fuck out my way, ...</td>\n",
       "    </tr>\n",
       "    <tr>\n",
       "      <td>3</td>\n",
       "      <td>Girl Code</td>\n",
       "      <td>City Girls</td>\n",
       "      <td>Clout Chasin'</td>\n",
       "      <td>Yung Miami, ho, JT on the track, Told that lil...</td>\n",
       "    </tr>\n",
       "    <tr>\n",
       "      <td>4</td>\n",
       "      <td>Girl Code</td>\n",
       "      <td>City Girls</td>\n",
       "      <td>Intro (#FREEJT)</td>\n",
       "      <td>You have pre-paid call, You will not be charge...</td>\n",
       "    </tr>\n",
       "  </tbody>\n",
       "</table>\n",
       "</div>"
      ],
      "text/plain": [
       "  album_title      artist            track_title  \\\n",
       "0   Girl Code  City Girls          What We Doin'   \n",
       "1   Girl Code  City Girls  Season (Ft. Lil Baby)   \n",
       "2   Girl Code  City Girls              Broke Boy   \n",
       "3   Girl Code  City Girls          Clout Chasin'   \n",
       "4   Girl Code  City Girls        Intro (#FREEJT)   \n",
       "\n",
       "                                              lyrics  \n",
       "0  (The 90's), Yup, haha, House super clean (Clea...  \n",
       "1  It's that season (Y'all know what time it is),...  \n",
       "2  If you a broke boy, stay the fuck out my way, ...  \n",
       "3  Yung Miami, ho, JT on the track, Told that lil...  \n",
       "4  You have pre-paid call, You will not be charge...  "
      ]
     },
     "execution_count": 2,
     "metadata": {},
     "output_type": "execute_result"
    }
   ],
   "source": [
    "data = pd.read_csv(\"FINAL_v1.csv\")\n",
    "del data['Unnamed: 0']\n",
    "data.head()"
   ]
  },
  {
   "cell_type": "code",
   "execution_count": 3,
   "metadata": {},
   "outputs": [],
   "source": [
    "data.lyrics = data.lyrics.astype(str)"
   ]
  },
  {
   "cell_type": "code",
   "execution_count": 4,
   "metadata": {},
   "outputs": [
    {
     "data": {
      "text/plain": [
       "\"(The 90's), Yup, haha, House super clean (Clean), fridge on full (Full), Baby with the grandmom, bitch I'm good, We could party all night, where we goin'? What we doin'?, Party all night, where we goin'? What we doin'?, House super clean (Clean), fridge on full (Full), Baby with the grandmom, bitch I'm good, We could party all night, where we goin'? What we doin'?, Party all night, where we goin'? What we doin'?, Girl, it's Friday night, We ain't kicked it in a while on a Friday night, It's time to step out on this Friday night, You actin' like an old lady, Girl, you probably right, Let me look up in the closet, see what I could wear, Check bank account, lemme see what I could spare, Baby daddy might trip, but I don't even care, You don't ever go out, he been out all year, Girl, you gon' get a bitch beat up, Child, please, what time we gon' meet up?, His soft ass ain't gon' do shit, But talk like he always do, bitch, You ain't nothin' but trouble, sho' is, You my dawg, and I love you, Hold on, let me try to hit his mama, To see if babysittin' ain't a problem (Period), House super clean (Clean), fridge on full (Full), Baby with the grandmom, bitch I'm good, We could party all night, where we goin'? What we doin'?, Party all night, where we goin'? What we doin'?, House super clean (Clean), fridge on full (Full), Baby with the grandmom, bitch I'm good, We could party all night, where we goin'? What we doin'?, Party all night, where we goin'? What we doin'?, Damn, thank God I ain't his baby mama (Uh-uh), A bitch like to party, made that nigga wear a condom, My best bitch 'bout to piss her baby daddy off (Yup), In the club, bow-legged with the stank walk (Ow), Ayy, where we goin'? What we doin'? (Where it's at?), No postin', niggas watchin' how we movin', You know we turnt up to a City Girls song (Where the bag at?), Fuck that nigga, phone on airplane mode, You been grindin' (Yup), You been workin' hard, bitch, it's perfect timing (Yup), Show your ass at least one time, bitch (Yup), If your baby daddy call, decline it, period, House super clean (Clean), fridge on full (Full), Baby with the grandmom, bitch I'm good, We could party all night, where we goin'? What we doin'?, Party all night, where we goin'? What we doin'?, House super clean (Clean), fridge on full (Full), Baby with the grandmom, bitch I'm good, We could party all night, where we goin'? What we doin'?, Party all night, where we goin'? What we doin'?\""
      ]
     },
     "execution_count": 4,
     "metadata": {},
     "output_type": "execute_result"
    }
   ],
   "source": [
    "data['lyrics'][0]"
   ]
  },
  {
   "cell_type": "code",
   "execution_count": 5,
   "metadata": {},
   "outputs": [],
   "source": [
    "def clean_text(text):\n",
    "    #Convert to lower case\n",
    "    text = text.lower()\n",
    "    #Lemmatizing the text\n",
    "    lemma = WordNetLemmatizer()\n",
    "    normalized = \" \".join(lemma.lemmatize(word, pos = \"v\") for word in text.split())\n",
    "    #Removing White spaces\n",
    "    normalized = normalized.replace('\\d+', '')\n",
    "    normalized = normalized.strip()\n",
    "    #Tokenize and extract words that are alpha-numeric\n",
    "    tokens = word_tokenize(normalized)\n",
    "    cleaned = [word for word in tokens if word.isalpha()]\n",
    "    #Create a dictionary of stem-words such as \"at\" and \n",
    "    #\"the\" that don't contribute to meaning and remove them from the list\n",
    "    stop_words = set(stopwords.words('english'))\n",
    "    words = [w for w in cleaned if not w in stop_words]\n",
    "    return words\n",
    "    "
   ]
  },
  {
   "cell_type": "code",
   "execution_count": 6,
   "metadata": {},
   "outputs": [],
   "source": [
    "data['lyrics_clean'] = [clean_text(text) for text in data[\"lyrics\"]]"
   ]
  },
  {
   "cell_type": "code",
   "execution_count": 7,
   "metadata": {},
   "outputs": [
    {
     "data": {
      "text/html": [
       "<div>\n",
       "<style scoped>\n",
       "    .dataframe tbody tr th:only-of-type {\n",
       "        vertical-align: middle;\n",
       "    }\n",
       "\n",
       "    .dataframe tbody tr th {\n",
       "        vertical-align: top;\n",
       "    }\n",
       "\n",
       "    .dataframe thead th {\n",
       "        text-align: right;\n",
       "    }\n",
       "</style>\n",
       "<table border=\"1\" class=\"dataframe\">\n",
       "  <thead>\n",
       "    <tr style=\"text-align: right;\">\n",
       "      <th></th>\n",
       "      <th>album_title</th>\n",
       "      <th>artist</th>\n",
       "      <th>track_title</th>\n",
       "      <th>lyrics</th>\n",
       "      <th>lyrics_clean</th>\n",
       "    </tr>\n",
       "  </thead>\n",
       "  <tbody>\n",
       "    <tr>\n",
       "      <td>0</td>\n",
       "      <td>Girl Code</td>\n",
       "      <td>City Girls</td>\n",
       "      <td>What We Doin'</td>\n",
       "      <td>(The 90's), Yup, haha, House super clean (Clea...</td>\n",
       "      <td>[yup, haha, house, super, clean, clean, fridge...</td>\n",
       "    </tr>\n",
       "    <tr>\n",
       "      <td>1</td>\n",
       "      <td>Girl Code</td>\n",
       "      <td>City Girls</td>\n",
       "      <td>Season (Ft. Lil Baby)</td>\n",
       "      <td>It's that season (Y'all know what time it is),...</td>\n",
       "      <td>[season, know, time, niggas, cut, check, reaso...</td>\n",
       "    </tr>\n",
       "    <tr>\n",
       "      <td>2</td>\n",
       "      <td>Girl Code</td>\n",
       "      <td>City Girls</td>\n",
       "      <td>Broke Boy</td>\n",
       "      <td>If you a broke boy, stay the fuck out my way, ...</td>\n",
       "      <td>[break, boy, stay, fuck, way, niggas, lyin, di...</td>\n",
       "    </tr>\n",
       "    <tr>\n",
       "      <td>3</td>\n",
       "      <td>Girl Code</td>\n",
       "      <td>City Girls</td>\n",
       "      <td>Clout Chasin'</td>\n",
       "      <td>Yung Miami, ho, JT on the track, Told that lil...</td>\n",
       "      <td>[yung, miami, ho, jt, track, tell, lil, bitch,...</td>\n",
       "    </tr>\n",
       "    <tr>\n",
       "      <td>4</td>\n",
       "      <td>Girl Code</td>\n",
       "      <td>City Girls</td>\n",
       "      <td>Intro (#FREEJT)</td>\n",
       "      <td>You have pre-paid call, You will not be charge...</td>\n",
       "      <td>[call, charge, call, call, jatavia, inmate, fe...</td>\n",
       "    </tr>\n",
       "  </tbody>\n",
       "</table>\n",
       "</div>"
      ],
      "text/plain": [
       "  album_title      artist            track_title  \\\n",
       "0   Girl Code  City Girls          What We Doin'   \n",
       "1   Girl Code  City Girls  Season (Ft. Lil Baby)   \n",
       "2   Girl Code  City Girls              Broke Boy   \n",
       "3   Girl Code  City Girls          Clout Chasin'   \n",
       "4   Girl Code  City Girls        Intro (#FREEJT)   \n",
       "\n",
       "                                              lyrics  \\\n",
       "0  (The 90's), Yup, haha, House super clean (Clea...   \n",
       "1  It's that season (Y'all know what time it is),...   \n",
       "2  If you a broke boy, stay the fuck out my way, ...   \n",
       "3  Yung Miami, ho, JT on the track, Told that lil...   \n",
       "4  You have pre-paid call, You will not be charge...   \n",
       "\n",
       "                                        lyrics_clean  \n",
       "0  [yup, haha, house, super, clean, clean, fridge...  \n",
       "1  [season, know, time, niggas, cut, check, reaso...  \n",
       "2  [break, boy, stay, fuck, way, niggas, lyin, di...  \n",
       "3  [yung, miami, ho, jt, track, tell, lil, bitch,...  \n",
       "4  [call, charge, call, call, jatavia, inmate, fe...  "
      ]
     },
     "execution_count": 7,
     "metadata": {},
     "output_type": "execute_result"
    }
   ],
   "source": [
    "data.head()"
   ]
  },
  {
   "cell_type": "code",
   "execution_count": null,
   "metadata": {},
   "outputs": [],
   "source": []
  }
 ],
 "metadata": {
  "kernelspec": {
   "display_name": "Python 3",
   "language": "python",
   "name": "python3"
  },
  "language_info": {
   "codemirror_mode": {
    "name": "ipython",
    "version": 3
   },
   "file_extension": ".py",
   "mimetype": "text/x-python",
   "name": "python",
   "nbconvert_exporter": "python",
   "pygments_lexer": "ipython3",
   "version": "3.7.4"
  }
 },
 "nbformat": 4,
 "nbformat_minor": 2
}
